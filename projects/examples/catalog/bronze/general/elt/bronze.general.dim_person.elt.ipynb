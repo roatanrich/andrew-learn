{
 "cells": [
  {
   "cell_type": "markdown",
   "metadata": {
    "application/vnd.databricks.v1+cell": {
     "cellMetadata": {
      "byteLimit": 2048000,
      "rowLimit": 10000
     },
     "inputWidgets": {},
     "nuid": "a5357011-9d5b-4df8-8524-5ace6d859589",
     "showTitle": false,
     "tableResultSettingsMap": {},
     "title": ""
    }
   },
   "source": [
    "# bronze.general.dim_person.elt\n",
    "\n",
    "## Overview\n",
    " \n",
    "|Attribute|Details|\n",
    "---|---|\n",
    "|Created By|Andrew Ryan|\n",
    "|Notebook Type|elt|\n",
    "|Workflow Parent||\n",
    "|Target Catalog|bronze|\n",
    "|Target Database|general|\n",
    " \n",
    "## Purpose\n",
    " \n",
    "This notebook populates the bronze.general.dim_person table with any new rows from the TBD data input\n",
    "\n",
    "## Revisions\n",
    " \n",
    "|Revision Date|Developer|Comment|\n",
    "---|---|---|\n",
    "|2025-06-30|Andrew Ryan|Created|"
   ]
  },
  {
   "cell_type": "code",
   "execution_count": 0,
   "metadata": {
    "application/vnd.databricks.v1+cell": {
     "cellMetadata": {
      "byteLimit": 2048000,
      "implicitDf": true,
      "rowLimit": 10000
     },
     "inputWidgets": {},
     "nuid": "8ce376b1-2db3-42c8-80c8-679d7cf039e4",
     "showTitle": false,
     "tableResultSettingsMap": {},
     "title": ""
    }
   },
   "outputs": [],
   "source": [
    "%sql\n",
    "INSERT INTO dim_person (person)\n",
    "VALUES\n",
    "    ('Andrew'),\n",
    "    ('Rich'),\n",
    "    ('Tristan'),\n",
    "    ('Jennifer');\n"
   ]
  }
 ],
 "metadata": {
  "application/vnd.databricks.v1+notebook": {
   "computePreferences": null,
   "dashboards": [],
   "environmentMetadata": {
    "base_environment": "",
    "environment_version": "2"
   },
   "inputWidgetPreferences": null,
   "language": "python",
   "notebookMetadata": {
    "mostRecentlyExecutedCommandWithImplicitDF": {
     "commandId": 4076697409414969,
     "dataframes": [
      "_sqldf"
     ]
    },
    "pythonIndentUnit": 4
   },
   "notebookName": "bronze.general.dim_person.elt",
   "widgets": {}
  },
  "language_info": {
   "name": "python"
  }
 },
 "nbformat": 4,
 "nbformat_minor": 0
}
