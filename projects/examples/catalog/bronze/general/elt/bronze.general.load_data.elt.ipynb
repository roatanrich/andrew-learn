{
 "cells": [
  {
   "cell_type": "markdown",
   "metadata": {
    "application/vnd.databricks.v1+cell": {
     "cellMetadata": {},
     "inputWidgets": {},
     "nuid": "a5357011-9d5b-4df8-8524-5ace6d859589",
     "showTitle": false,
     "tableResultSettingsMap": {},
     "title": ""
    }
   },
   "source": [
    "# bronze.general.load_data.elt\n",
    "\n",
    "## Overview\n",
    " \n",
    "|Attribute|Details|\n",
    "---|---|\n",
    "|Created By|Rich Henry|\n",
    "|Notebook Type|elt|\n",
    "|Workflow Parent||\n",
    "|Target Catalog|bronze|\n",
    "|Target Database|general|\n",
    " \n",
    "## Purpose\n",
    " \n",
    "This notebook populates the bronze.general.<project name> table with any new rows from the TBD data input\n",
    "\n",
    "## Revisions\n",
    " \n",
    "|Revision Date|Developer|Comment|\n",
    "---|---|---|\n",
    "|2025-06-19|Rich Henry|Created|"
   ]
  },
  {
   "cell_type": "code",
   "execution_count": 0,
   "metadata": {
    "application/vnd.databricks.v1+cell": {
     "cellMetadata": {},
     "inputWidgets": {},
     "nuid": "132913ee-a506-4aa2-a98b-1bddda810f9a",
     "showTitle": false,
     "tableResultSettingsMap": {},
     "title": ""
    }
   },
   "outputs": [],
   "source": [
    "%python\n",
    "\n",
    "# Setting the environment.\n",
    "environment = dbutils.secrets.get(scope = \"workspace-details\", key = \"name\")\n",
    "spark.conf.set(\"sql.environment\", environment)\n",
    "\n",
    "# Setting the table names.\n",
    "table_name = \"bet_config\"\n",
    "stage_table_name = f\"{environment}_silver.staging.{table_name}\"\n",
    "spark.conf.set(\"sql.table_name\", table_name)\n",
    "spark.conf.set(\"sql.stage_table_name\", stage_table_name)\n"
   ]
  },
  {
   "cell_type": "code",
   "execution_count": 0,
   "metadata": {
    "application/vnd.databricks.v1+cell": {
     "cellMetadata": {},
     "inputWidgets": {},
     "nuid": "8ce376b1-2db3-42c8-80c8-679d7cf039e4",
     "showTitle": false,
     "tableResultSettingsMap": {},
     "title": ""
    }
   },
   "outputs": [],
   "source": [
    "%sql\n",
    "INSERT INTO\n",
    "  ${sql.table_name} (\n",
    "    game_spid,\n",
    "    row_id,\n",
    "    id,\n",
    "    lines,\n",
    "    bet_multiplier,\n",
    "    bet_in_credits,\n",
    "    bet_config_game_id,\n",
    "    max_bet,\n",
    "    is_wagerable,\n",
    "    ways\n",
    "  )\n",
    "SELECT\n",
    "  game_spid,\n",
    "  row_id,\n",
    "  id,\n",
    "  lines,\n",
    "  bet_multiplier,\n",
    "  bet_in_credits,\n",
    "  bet_config_game_id,\n",
    "  max_bet,\n",
    "  is_wagerable,\n",
    "  ways\n",
    "FROM\n",
    "  ${sql.stage_table_name};\n",
    "--Delete orphaned dim_bet_config_game rows\n",
    "DELETE FROM\n",
    "  dim_bet_config_game\n",
    "WHERE\n",
    "  bet_config_game_id NOT IN (\n",
    "    SELECT\n",
    "      bet_config_game_id\n",
    "    FROM\n",
    "      ${sql.table_name}\n",
    "  );"
   ]
  }
 ],
 "metadata": {
  "application/vnd.databricks.v1+notebook": {
   "computePreferences": null,
   "dashboards": [],
   "environmentMetadata": {
    "base_environment": "",
    "environment_version": "2"
   },
   "inputWidgetPreferences": null,
   "language": "python",
   "notebookMetadata": {
    "pythonIndentUnit": 4
   },
   "notebookName": "bronze.general.load_data.elt",
   "widgets": {}
  },
  "language_info": {
   "name": "python"
  }
 },
 "nbformat": 4,
 "nbformat_minor": 0
}
