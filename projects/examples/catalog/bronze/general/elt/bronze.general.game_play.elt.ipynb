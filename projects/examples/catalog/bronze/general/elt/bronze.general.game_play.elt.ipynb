{
 "cells": [
  {
   "cell_type": "markdown",
   "metadata": {
    "application/vnd.databricks.v1+cell": {
     "cellMetadata": {
      "byteLimit": 2048000,
      "rowLimit": 10000
     },
     "inputWidgets": {},
     "nuid": "a5357011-9d5b-4df8-8524-5ace6d859589",
     "showTitle": false,
     "tableResultSettingsMap": {},
     "title": ""
    }
   },
   "source": [
    "# bronze.general.game_play.elt\n",
    "\n",
    "## Overview\n",
    " \n",
    "|Attribute|Details|\n",
    "---|---|\n",
    "|Created By|Rich Henry|\n",
    "|Notebook Type|elt|\n",
    "|Workflow Parent||\n",
    "|Target Catalog|bronze|\n",
    "|Target Database|general|\n",
    " \n",
    "## Purpose\n",
    " \n",
    "This notebook populates the bronze.general.game_play table with any new rows from the TBD data input\n",
    "\n",
    "## Revisions\n",
    " \n",
    "|Revision Date|Developer|Comment|\n",
    "---|---|---|\n",
    "|2025-06-19|Rich Henry|Created|"
   ]
  },
  {
   "cell_type": "code",
   "execution_count": 0,
   "metadata": {
    "application/vnd.databricks.v1+cell": {
     "cellMetadata": {
      "byteLimit": 2048000,
      "implicitDf": true,
      "rowLimit": 10000
     },
     "inputWidgets": {},
     "nuid": "8ce376b1-2db3-42c8-80c8-679d7cf039e4",
     "showTitle": false,
     "tableResultSettingsMap": {},
     "title": ""
    }
   },
   "outputs": [],
   "source": [
    "%sql\n",
    "INSERT INTO game_play (game_name, game_type, person, year_created, last_played) VALUES\n",
    "('Borderlands', 'XBox', 'Rich', 2009, 2025),\n",
    "('Assassins Creed Shadows', 'XBox', 'Rich', 2025, 2025),\n",
    "('Risk', 'Board', 'Andrew', 2025, 2024),\n",
    "('Risk', 'Online', 'Rich', 2007, 2017),\n",
    "('Uno', 'Card', 'Andrew', 1971, 2024),\n",
    "('Uno', 'Card', 'Tristan', 1971, 2024),\n",
    "('Monopoly', 'Board', 'Tristan', 1935, 2024),\n",
    "('Monopoly', 'Board', 'Andrew', 1935, 2024),\n",
    "('Monopoly', 'Board', 'Rich', 1935, 2024),\n",
    "('Monopoly', 'Board', 'Jennifer', 1935, 2024);\n"
   ]
  }
 ],
 "metadata": {
  "application/vnd.databricks.v1+notebook": {
   "computePreferences": null,
   "dashboards": [],
   "environmentMetadata": {
    "base_environment": "",
    "environment_version": "2"
   },
   "inputWidgetPreferences": null,
   "language": "python",
   "notebookMetadata": {
    "mostRecentlyExecutedCommandWithImplicitDF": {
     "commandId": 5610828063218418,
     "dataframes": [
      "_sqldf"
     ]
    },
    "pythonIndentUnit": 4
   },
   "notebookName": "bronze.general.game_play.elt",
   "widgets": {}
  },
  "language_info": {
   "name": "python"
  }
 },
 "nbformat": 4,
 "nbformat_minor": 0
}
